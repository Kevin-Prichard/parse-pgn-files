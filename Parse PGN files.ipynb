{
 "cells": [
  {
   "cell_type": "code",
   "execution_count": 1,
   "id": "restricted-reverse",
   "metadata": {},
   "outputs": [],
   "source": [
    "from parsita import *\n",
    "from parsita.util import constant\n",
    "import json"
   ]
  },
  {
   "cell_type": "code",
   "execution_count": 2,
   "id": "widespread-shaft",
   "metadata": {},
   "outputs": [],
   "source": [
    "def formatannotations(annotations):\n",
    "    return {ant[0]: ant[1] for ant in annotations}\n",
    "\n",
    "def formatgame(game):\n",
    "    return {\n",
    "        'moves': game[0],\n",
    "        'outcome': game[1]\n",
    "    }\n",
    "\n",
    "def formatentry(entry):\n",
    "    return {'annotations': entry[0], 'game': entry[1]}\n",
    "\n",
    "def handleoptional(optionalmove):\n",
    "    if len(optionalmove) > 0:\n",
    "        return optionalmove[0]\n",
    "    else:\n",
    "        return None"
   ]
  },
  {
   "cell_type": "code",
   "execution_count": 3,
   "id": "jewish-chance",
   "metadata": {},
   "outputs": [],
   "source": [
    "# Define Grammar by building up from smallest components\n",
    "\n",
    "# tokens\n",
    "quote = lit(r'\"')\n",
    "whitespace = lit(' ') | lit('\\n')\n",
    "tag = reg(r'[\\u0021-\\u0021\\u0023-\\u005A\\u005E-\\u007E]+')\n",
    "string = reg(r'[\\u0020-\\u0021\\u0023-\\u005A\\u005E-\\U0010FFFF]+')\n",
    "\n",
    "# Annotations: [Foo \"Super Awesome Information\"]\n",
    "annotation = '[' >> (tag) << ' ' & (quote >> string << quote) << ']'\n",
    "annotations = repsep(annotation, '\\n') > formatannotations\n",
    "\n",
    "# Moves are more complicated\n",
    "regularmove = reg(r'[a-h1-8NBRQKx\\+#=]+') # Matches more than just chess moves\n",
    "longcastle = reg(r'O-O-O[+#]?') # match first to avoid castle matching spuriously\n",
    "castle = reg(r'O-O[+#]?')\n",
    "nullmove = lit('--') # Illegal move rarely used in annotations\n",
    "\n",
    "move = regularmove | longcastle | castle | nullmove\n",
    "\n",
    "# Build up the game\n",
    "movenumber = (reg(r'[0-9]+') << '.' << whitespace) > int\n",
    "turn = movenumber & (move << whitespace) & (opt(move << whitespace) > handleoptional)\n",
    "\n",
    "draw = lit('1/2-1/2')\n",
    "white = lit('1-0')\n",
    "black = lit('0-1')\n",
    "outcome = draw | white | black\n",
    "\n",
    "game = (rep(turn) & outcome) > formatgame\n",
    "\n",
    "# A PGN entry is annotations and the game\n",
    "entry = ((annotations << rep(whitespace)) & (game << rep(whitespace))) > formatentry\n",
    "\n",
    "# A file is repeated entries\n",
    "file = rep(entry)"
   ]
  },
  {
   "cell_type": "code",
   "execution_count": 4,
   "id": "collect-lightweight",
   "metadata": {},
   "outputs": [],
   "source": [
    "with open('twic1368.pgn', 'r') as f:\n",
    "    parsedoutput = file.parse(f.read()).or_die()"
   ]
  },
  {
   "cell_type": "code",
   "execution_count": 5,
   "id": "attractive-technology",
   "metadata": {},
   "outputs": [
    {
     "data": {
      "text/plain": [
       "4408"
      ]
     },
     "execution_count": 5,
     "metadata": {},
     "output_type": "execute_result"
    }
   ],
   "source": [
    "# How many games were parsed?\n",
    "len(parsedoutput)"
   ]
  },
  {
   "cell_type": "code",
   "execution_count": 6,
   "id": "aware-hammer",
   "metadata": {},
   "outputs": [
    {
     "data": {
      "text/plain": [
       "{'annotations': {'Event': 'Lozovatsky Mem A 2021',\n",
       "  'Site': 'Chelyabinsk RUS',\n",
       "  'Date': '2021.01.18',\n",
       "  'Round': '5.18',\n",
       "  'White': 'Mischuk,D',\n",
       "  'Black': 'Bryakin,M',\n",
       "  'Result': '1-0',\n",
       "  'WhiteTitle': 'IM',\n",
       "  'BlackTitle': 'IM',\n",
       "  'WhiteElo': '2364',\n",
       "  'BlackElo': '2448',\n",
       "  'ECO': 'D15',\n",
       "  'Opening': 'QGD Slav',\n",
       "  'Variation': '4.Nc3',\n",
       "  'WhiteFideId': '14118734',\n",
       "  'BlackFideId': '4165314',\n",
       "  'EventDate': '2021.01.15'},\n",
       " 'game': {'moves': [[1, 'd4', 'd5'],\n",
       "   [2, 'c4', 'c6'],\n",
       "   [3, 'Nc3', 'Nf6'],\n",
       "   [4, 'Nf3', 'a6'],\n",
       "   [5, 'a4', 'e6'],\n",
       "   [6, 'g3', 'c5'],\n",
       "   [7, 'Bg2', 'dxc4'],\n",
       "   [8, 'dxc5', 'Qxd1+'],\n",
       "   [9, 'Nxd1', 'Bd7'],\n",
       "   [10, 'Ne5', 'Nc6'],\n",
       "   [11, 'Nxc6', 'Bxc6'],\n",
       "   [12, 'Bxc6+', 'bxc6'],\n",
       "   [13, 'Bd2', 'Ne4'],\n",
       "   [14, 'Rc1', 'Nxd2'],\n",
       "   [15, 'Kxd2', 'O-O-O+'],\n",
       "   [16, 'Ke3', 'Bxc5+'],\n",
       "   [17, 'Kf3', 'Kb7'],\n",
       "   [18, 'Rxc4', 'Be7'],\n",
       "   [19, 'Nc3', 'Rd2'],\n",
       "   [20, 'Rb1', 'f5'],\n",
       "   [21, 'a5', 'Rhd8'],\n",
       "   [22, 'Na4', 'R8d4'],\n",
       "   [23, 'b3', 'Rxc4'],\n",
       "   [24, 'bxc4+', 'Kc7'],\n",
       "   [25, 'Nb6', 'Bc5'],\n",
       "   [26, 'Na8+', 'Kd6'],\n",
       "   [27, 'Rb8', 'Ra2'],\n",
       "   [28, 'Rd8+', 'Ke7'],\n",
       "   [29, 'Rc8', 'Kd6'],\n",
       "   [30, 'Rd8+', 'Ke7'],\n",
       "   [31, 'Rc8', 'Kd7'],\n",
       "   [32, 'Rc7+', 'Kd6'],\n",
       "   [33, 'Rxg7', 'Rxa5'],\n",
       "   [34, 'Nc7', 'Ra1'],\n",
       "   [35, 'Ne8+', 'Ke5'],\n",
       "   [36, 'Rc7', 'Kd4'],\n",
       "   [37, 'Rxc6', 'Bb4'],\n",
       "   [38, 'Nc7', 'a5'],\n",
       "   [39, 'Nb5+', 'Ke5'],\n",
       "   [40, 'e3', 'Kf6'],\n",
       "   [41, 'Nd4', 'Bc3'],\n",
       "   [42, 'Rxe6+', 'Kf7'],\n",
       "   [43, 'Ra6', 'a4'],\n",
       "   [44, 'c5', 'Bb2'],\n",
       "   [45, 'c6', 'a3'],\n",
       "   [46, 'c7', 'Rc1'],\n",
       "   [47, 'Nb5', 'Ke7'],\n",
       "   [48, 'Nxa3', 'Rxc7'],\n",
       "   [49, 'Nb5', 'Rc5'],\n",
       "   [50, 'Nd4', 'Kf7'],\n",
       "   [51, 'Kf4', 'Rd5'],\n",
       "   [52, 'Nxf5', 'Rd2'],\n",
       "   [53, 'Nd6+', 'Kg7'],\n",
       "   [54, 'Ne4', 'Rc2'],\n",
       "   [55, 'g4', 'Rc8'],\n",
       "   [56, 'g5', 'Rf8+'],\n",
       "   [57, 'Kg4', 'Re8'],\n",
       "   [58, 'Nf6', 'Rd8'],\n",
       "   [59, 'h4', 'Rd2'],\n",
       "   [60, 'Ra7+', None]],\n",
       "  'outcome': '1-0'}}"
      ]
     },
     "execution_count": 6,
     "metadata": {},
     "output_type": "execute_result"
    }
   ],
   "source": [
    "# Structure of the final games\n",
    "parsedoutput[100]"
   ]
  }
 ],
 "metadata": {
  "kernelspec": {
   "display_name": "Chess (python))",
   "language": "python",
   "name": "chess"
  },
  "language_info": {
   "codemirror_mode": {
    "name": "ipython",
    "version": 3
   },
   "file_extension": ".py",
   "mimetype": "text/x-python",
   "name": "python",
   "nbconvert_exporter": "python",
   "pygments_lexer": "ipython3",
   "version": "3.9.1"
  }
 },
 "nbformat": 4,
 "nbformat_minor": 5
}
